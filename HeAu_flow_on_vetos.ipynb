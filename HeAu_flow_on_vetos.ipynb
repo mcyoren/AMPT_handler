{
 "cells": [
  {
   "cell_type": "markdown",
   "metadata": {},
   "source": [
    "import ipotrant libraries"
   ]
  },
  {
   "cell_type": "code",
   "execution_count": 93,
   "metadata": {},
   "outputs": [],
   "source": [
    "import ROOT\n",
    "import math\n",
    "from array import array\n",
    "import numpy as np\n",
    "from ROOT import gROOT, AddressOf\n",
    "%jsroot on"
   ]
  },
  {
   "cell_type": "markdown",
   "metadata": {},
   "source": [
    "Set common variables"
   ]
  },
  {
   "cell_type": "code",
   "execution_count": 2,
   "metadata": {
    "ExecuteTime": {
     "end_time": "2023-06-06T13:48:15.019958422Z",
     "start_time": "2023-06-06T13:48:15.016818782Z"
    }
   },
   "outputs": [],
   "source": [
    "read_ampt_dat_files = True\n",
    "\n",
    "ampt_files_path = \"/home/yoren/bnl/AMPT/Artem_heau/output_taxi/\"\n",
    "\n",
    "N_files = 2"
   ]
  },
  {
   "cell_type": "markdown",
   "metadata": {},
   "source": [
    "Define structures"
   ]
  },
  {
   "cell_type": "code",
   "execution_count": 3,
   "metadata": {},
   "outputs": [],
   "source": [
    "gROOT.ProcessLine(\n",
    "\"struct event {\\\n",
    "  Int_t           number;\\\n",
    "  Int_t         ncharge_y;\\\n",
    "  Float_t         phi_bbc;\\\n",
    "  Float_t         phi_cnt;\\\n",
    "  Float_t         phi_fvtx;\\\n",
    "  };\"\n",
    "); \n",
    "\n",
    "\n",
    "class event:\n",
    "  \n",
    "  def __init__(self, input_array):\n",
    "    self.number = int(input_array[0])-101\n",
    "    self.check = int(input_array[1])\n",
    "    self.nch_tot = int(input_array[2])\n",
    "    self.bimp = float(input_array[3])\n",
    "    self.npart1 = int(input_array[4])\n",
    "    self.npart2 = int(input_array[5])\n",
    "    self.ncoll_ell = int(input_array[6])\n",
    "    self.ncoll = int(input_array[7])\n",
    "    self.ncoll1 = int(input_array[8])\n",
    "    self.ncharge_y = int(input_array[9])\n",
    "    self.phi_bbc = float(input_array[10])\n",
    "    self.phi_cnt = float(input_array[11])\n",
    "    self.phi_fvtx = float(input_array[12])\n",
    "  \n",
    "  \n",
    "  def __str__(self):\n",
    "    return f\"number = {self.number}, check = {self.check}, nch_tot = {self.nch_tot}, bimp = {self.bimp}, npart1 = {self.npart1}, npart2 = {self.npart2}, \"+f\"ncoll_ell = {self.ncoll_ell}, ncoll = {self.ncoll}, ncoll1 = {self.ncoll1}, ncharge_y = {self.ncharge_y}, phi_bbc = {self.phi_bbc}, phi_cnt = {self.phi_cnt}, phi_fvtx = {self.phi_fvtx},\"\n",
    "  \n",
    "  def get_values(self):\n",
    "    list = [self.number, self.ncharge_y, self.phi_bbc, self.phi_cnt, self.phi_fvtx]\n",
    "    for i in range(len(list)):\n",
    "      if list[i]>1e6 or list[i]<-5:\n",
    "        list[i]=9999\n",
    "    #arr = np.array(list)\n",
    "    return list\n",
    "  \n",
    "  def set_event(self, mystruck):\n",
    "    mystruck.number = self.number\n",
    "    mystruck.ncharge_y = self.ncharge_y\n",
    "    mystruck.phi_bbc = self.phi_bbc\n",
    "    mystruck.phi_cnt = self.phi_cnt\n",
    "    mystruck.phi_fvtx = self.phi_fvtx\n",
    "\n",
    "  \n",
    "class particles:\n",
    "  def __init__(self):\n",
    "    self.px_pi0 = []\n",
    "    self.py_pi0 = []\n",
    "    self.pz_pi0 = []\n",
    "    self.m_pi0 = []\n",
    "    self.px = []\n",
    "    self.py = []\n",
    "    self.pz = []\n",
    "    self.m = []\n",
    "\n",
    "  def __str__(self):\n",
    "    return f\"N_pi0 = {len(self.m_pi0)}, N_ch_part = {len(self.m)}\"\n",
    "\n",
    "  def add_charged_particle(self, input_mom):\n",
    "    self.px.append(float(input_mom[0]))\n",
    "    self.py.append(float(input_mom[1]))\n",
    "    self.pz.append(float(input_mom[2]))\n",
    "    self.m.append(float(input_mom[3]))\n",
    "\n",
    "  def add_pi0(self, input_mom):\n",
    "    self.px_pi0.append(float(input_mom[0]))\n",
    "    self.py_pi0.append(float(input_mom[1]))\n",
    "    self.pz_pi0.append(float(input_mom[2]))\n",
    "    self.m_pi0.append(float(input_mom[3]))"
   ]
  },
  {
   "cell_type": "markdown",
   "metadata": {},
   "source": [
    "Create TTree creator"
   ]
  },
  {
   "cell_type": "code",
   "execution_count": 4,
   "metadata": {},
   "outputs": [],
   "source": [
    "event_input = [array('i', [0]), array('i', [0]), array('d', [0]), array('d', [0]), array('d', [0])]\n",
    "hadron_input = [array('d', [0]), array('d', [0]), array('d', [0]), array('d', [0])]\n",
    "pi0_input = [array('d', [0]), array('d', [0]), array('d', [0]), array('d', [0])]\n",
    "num_input1, num_input2 = array('i', [0]), array('i', [0])\n",
    "def ttree_creator(name1, name2, name3):\n",
    "    tree_event0 = ROOT.TTree(name1,name1)\n",
    "    tree_event0.Branch('number', event_input[0], 'number/I')\n",
    "    tree_event0.Branch('ncharge_y', event_input[1], 'ncharge_y/I')\n",
    "    tree_event0.Branch('phi_bbc', event_input[2], 'phi_bbc/D')\n",
    "    tree_event0.Branch('phi_cnt', event_input[3], 'phi_cnt/D')\n",
    "    tree_event0.Branch('phi_fvtx', event_input[4], 'phi_fvtx/D')\n",
    "\n",
    "\n",
    "    tree_hadron0 = ROOT.TTree(name2,name2)\n",
    "\n",
    "    tree_hadron0.Branch('number', num_input1, 'number/I')\n",
    "\n",
    "    tree_hadron0.Branch(\"px\", hadron_input[0], 'px/D')\n",
    "    tree_hadron0.Branch(\"py\", hadron_input[1], 'py/D')\n",
    "    tree_hadron0.Branch(\"pz\", hadron_input[2], 'pz/D')\n",
    "    tree_hadron0.Branch(\"m\",  hadron_input[3],  'm/D')\\\n",
    "    \n",
    "    tree_pi00 = ROOT.TTree(name3,name3)\n",
    "\n",
    "    tree_pi00.Branch('number', num_input2, 'number/I')\n",
    "\n",
    "    tree_pi00.Branch(\"px\", pi0_input[0], 'px/D')\n",
    "    tree_pi00.Branch(\"py\", pi0_input[1], 'py/D')\n",
    "    tree_pi00.Branch(\"pz\", pi0_input[2], 'pz/D')\n",
    "    tree_pi00.Branch(\"m\",  pi0_input[3],  'm/D')\n",
    "    \n",
    "    return [tree_event0, tree_hadron0, tree_pi00]\n",
    "\n",
    "\n",
    "\n",
    "    #mystruck= ROOT.event()\n",
    "    #tree.Branch(\"event\",mystruck,\"number/I:ncharge_y/I:phi_bbc/F:phi_cnt/F:phi_fvtx/F\")\n",
    "    #N=5\n",
    "    #npa = np.array(N*[ 0.2 ])\n",
    "    #tree.Branch('nparrayb', npa, 'nparrayb[' + str(N) + ']/D')\n",
    "    #tree.Branch(\"point\",event,\"number:check:nch_tot/i:bimp/F:npart1:npart2:ncoll_ell:ncoll:ncoll1:ncharge_y/I:phi_bbc:phi_cnt:phi_fvtx/F\")\n"
   ]
  },
  {
   "cell_type": "markdown",
   "metadata": {},
   "source": [
    "Create file reader"
   ]
  },
  {
   "cell_type": "code",
   "execution_count": 5,
   "metadata": {},
   "outputs": [],
   "source": [
    "def file_reader(filename, tree_event_in, tree_hadron_in, tree_pi0_in):\n",
    "    f = open(filename, \"r\")\n",
    "    part = particles()\n",
    "    for line in f:\n",
    "        line = line.split()\n",
    "        if float(line[0]) > 100:\n",
    "            test = event(line)\n",
    "            npa = test.get_values()\n",
    "            for i in range(5):\n",
    "                event_input[i][0] = npa[i]\n",
    "            tree_event_in.Fill()    \n",
    "            part = particles()\n",
    "            num_input1, num_input2 = npa[0], npa[0]\n",
    "        else :\n",
    "            if float(line[3]) == 0.1350: \n",
    "                part.add_pi0(line)\n",
    "                for i in range(4):\n",
    "                    pi0_input[i][0] = float(line[i])    \n",
    "                tree_pi0_in.Fill()            \n",
    "            else: \n",
    "                part.add_charged_particle(line)\n",
    "                for i in range(4):\n",
    "                    hadron_input[i][0] = float(line[i])    \n",
    "                tree_hadron_in.Fill()\n",
    "    \n",
    "    #for i in range(len(part.px)):\n",
    "        #e_input[0][i]=part.px[i]\n",
    "    #tree.Fill()\n"
   ]
  },
  {
   "cell_type": "markdown",
   "metadata": {},
   "source": [
    "Read AMPT files and create TTree"
   ]
  },
  {
   "cell_type": "code",
   "execution_count": 6,
   "metadata": {},
   "outputs": [
    {
     "name": "stdout",
     "output_type": "stream",
     "text": [
      "******************************************************************************\n",
      "*Tree    :event     : event                                                  *\n",
      "*Entries :     5000 : Total =          164099 bytes  File  Size =          0 *\n",
      "*        :          : Tree compression factor =   1.00                       *\n",
      "******************************************************************************\n",
      "*Br    0 :number    : number/I                                               *\n",
      "*Entries :     5000 : Total  Size=      20653 bytes  One basket in memory    *\n",
      "*Baskets :        0 : Basket Size=      32000 bytes  Compression=   1.00     *\n",
      "*............................................................................*\n",
      "*Br    1 :ncharge_y : ncharge_y/I                                            *\n",
      "*Entries :     5000 : Total  Size=      20671 bytes  One basket in memory    *\n",
      "*Baskets :        0 : Basket Size=      32000 bytes  Compression=   1.00     *\n",
      "*............................................................................*\n",
      "*Br    2 :phi_bbc   : phi_bbc/D                                              *\n",
      "*Entries :     5000 : Total  Size=      40825 bytes  All baskets in memory   *\n",
      "*Baskets :        1 : Basket Size=      32000 bytes  Compression=   1.00     *\n",
      "*............................................................................*\n",
      "*Br    3 :phi_cnt   : phi_cnt/D                                              *\n",
      "*Entries :     5000 : Total  Size=      40825 bytes  All baskets in memory   *\n",
      "*Baskets :        1 : Basket Size=      32000 bytes  Compression=   1.00     *\n",
      "*............................................................................*\n",
      "*Br    4 :phi_fvtx  : phi_fvtx/D                                             *\n",
      "*Entries :     5000 : Total  Size=      40833 bytes  All baskets in memory   *\n",
      "*Baskets :        1 : Basket Size=      32000 bytes  Compression=   1.00     *\n",
      "*............................................................................*\n",
      "******************************************************************************\n",
      "*Tree    :hadron    : hadron                                                 *\n",
      "*Entries :    57402 : Total =         2079849 bytes  File  Size =          0 *\n",
      "*        :          : Tree compression factor =   1.00                       *\n",
      "******************************************************************************\n",
      "*Br    0 :number    : number/I                                               *\n",
      "*Entries :    57402 : Total  Size=     231369 bytes  All baskets in memory   *\n",
      "*Baskets :        7 : Basket Size=      32000 bytes  Compression=   1.00     *\n",
      "*............................................................................*\n",
      "*Br    1 :px        : px/D                                                   *\n",
      "*Entries :    57402 : Total  Size=     462055 bytes  All baskets in memory   *\n",
      "*Baskets :       14 : Basket Size=      32000 bytes  Compression=   1.00     *\n",
      "*............................................................................*\n",
      "*Br    2 :py        : py/D                                                   *\n",
      "*Entries :    57402 : Total  Size=     462055 bytes  All baskets in memory   *\n",
      "*Baskets :       14 : Basket Size=      32000 bytes  Compression=   1.00     *\n",
      "*............................................................................*\n",
      "*Br    3 :pz        : pz/D                                                   *\n",
      "*Entries :    57402 : Total  Size=     462055 bytes  All baskets in memory   *\n",
      "*Baskets :       14 : Basket Size=      32000 bytes  Compression=   1.00     *\n",
      "*............................................................................*\n",
      "*Br    4 :m         : m/D                                                    *\n",
      "*Entries :    57402 : Total  Size=     462021 bytes  All baskets in memory   *\n",
      "*Baskets :       14 : Basket Size=      32000 bytes  Compression=   1.00     *\n",
      "*............................................................................*\n",
      "******************************************************************************\n",
      "*Tree    :pi0       : pi0                                                    *\n",
      "*Entries :    29149 : Total =         1057301 bytes  File  Size =          0 *\n",
      "*        :          : Tree compression factor =   1.00                       *\n",
      "******************************************************************************\n",
      "*Br    0 :number    : number/I                                               *\n",
      "*Entries :    29149 : Total  Size=     117701 bytes  All baskets in memory   *\n",
      "*Baskets :        3 : Basket Size=      32000 bytes  Compression=   1.00     *\n",
      "*............................................................................*\n",
      "*Br    1 :px        : px/D                                                   *\n",
      "*Entries :    29149 : Total  Size=     234833 bytes  All baskets in memory   *\n",
      "*Baskets :        7 : Basket Size=      32000 bytes  Compression=   1.00     *\n",
      "*............................................................................*\n",
      "*Br    2 :py        : py/D                                                   *\n",
      "*Entries :    29149 : Total  Size=     234833 bytes  All baskets in memory   *\n",
      "*Baskets :        7 : Basket Size=      32000 bytes  Compression=   1.00     *\n",
      "*............................................................................*\n",
      "*Br    3 :pz        : pz/D                                                   *\n",
      "*Entries :    29149 : Total  Size=     234833 bytes  All baskets in memory   *\n",
      "*Baskets :        7 : Basket Size=      32000 bytes  Compression=   1.00     *\n",
      "*............................................................................*\n",
      "*Br    4 :m         : m/D                                                    *\n",
      "*Entries :    29149 : Total  Size=     234813 bytes  All baskets in memory   *\n",
      "*Baskets :        7 : Basket Size=      32000 bytes  Compression=   1.00     *\n",
      "*............................................................................*\n"
     ]
    }
   ],
   "source": [
    "[tree_event, tree_hadron, tree_pi0] = ttree_creator(\"event\",\"hadron\",\"pi0\")\n",
    "if read_ampt_dat_files:  \n",
    "    for i in range(1,1+N_files):\n",
    "        filename = ampt_files_path+f\"ampt_{i}.dat\"\n",
    "        file_reader(filename, tree_event, tree_hadron, tree_pi0)\n",
    "\n",
    "tree_event.Print()\n",
    "tree_hadron.Print()\n",
    "tree_pi0.Print()\n"
   ]
  },
  {
   "cell_type": "markdown",
   "metadata": {},
   "source": [
    "Write Tree to RootFile"
   ]
  },
  {
   "cell_type": "code",
   "execution_count": 7,
   "metadata": {},
   "outputs": [],
   "source": [
    "if read_ampt_dat_files:\n",
    "  trees=[tree_event,tree_hadron,tree_pi0]\n",
    "  output_file = ROOT.TFile.Open(\"HeAu_Artem_new.root\",\"RECREATE\")\n",
    "  for tree in trees: tree.Write()\n",
    "  output_file.Close()"
   ]
  },
  {
   "cell_type": "markdown",
   "metadata": {},
   "source": [
    "Read TTree"
   ]
  },
  {
   "cell_type": "code",
   "execution_count": 16,
   "metadata": {},
   "outputs": [
    {
     "name": "stdout",
     "output_type": "stream",
     "text": [
      "48\n"
     ]
    }
   ],
   "source": [
    "inFile = ROOT.TFile.Open('HeAu_Artem_new.root')\n",
    "tree_read = inFile.Get(\"event\")\n",
    "\n",
    "\n",
    "tree_read2 = inFile.Get(\"pi0\")\n",
    "\n",
    "for ev in tree_read2:\n",
    "    if ev.m != 0.1350: print(ev.m)\n",
    "\n",
    "\n",
    "tree_read3 = inFile.Get(\"hadron\")\n",
    "a=0\n",
    "for ev in tree_read3:\n",
    "    if ev.m == 0.0005: a+=1\n",
    "print(a)\n",
    "\n",
    "inFile.Close()\n"
   ]
  },
  {
   "cell_type": "code",
   "execution_count": 99,
   "metadata": {},
   "outputs": [],
   "source": [
    "random = ROOT.gRandom.Rndm\n",
    "\n",
    "def Sphere(r):\n",
    "    a, b,r2 = 0, 0, 1\n",
    "    while r2 > 0.25:\n",
    "        a  = random() - 0.5\n",
    "        b  = random() - 0.5\n",
    "        r2 =  a*a + b*b\n",
    "    z = r* ( -1. + 8.0 * r2 );\n",
    " \n",
    "    scale = 8.0 * r * (0.25 - r2)**0.5\n",
    "    x = a*scale\n",
    "    y = b*scale\n",
    "\n",
    "    return [r, x, y, z]\n"
   ]
  },
  {
   "cell_type": "code",
   "execution_count": 144,
   "metadata": {},
   "outputs": [
    {
     "name": "stdout",
     "output_type": "stream",
     "text": [
      "[0.6486464861016663, 0.35444069683896606, -0.0928341606867345] [1.3513535138983337, 0.6455593031610339, 0.5928341606867346]\n"
     ]
    }
   ],
   "source": [
    "def lorenz_boost(pt_origin, m=0.547):\n",
    "\n",
    "    p_tot=(pt_origin[0]**2+pt_origin[1]**2+pt_origin[2]**2)**0.5\n",
    "    p0=[(m**2+p_tot**2)**0.5,pt_origin[0],pt_origin[1],pt_origin[2]]\n",
    "    p0=np.array(p0)\n",
    "    \n",
    "    gamma = p0[0]/m\n",
    "    beta = p_tot/p0[0]\n",
    "    beta_x, beta_y, beta_z = -p0[1]/p0[0], -p0[2]/p0[0], -p0[3]/p0[0]\n",
    "#print(p0, gamma, beta, beta_x, beta_y, beta_z)\n",
    "    E1, E2 = m/2, m/2\n",
    "    p1 = Sphere(E1)\n",
    "    p2 = [E2,-p1[1],-p1[2],-p1[3]]\n",
    "    p1=np.array(p1)\n",
    "    p2=np.array(p2)\n",
    "\n",
    "    #print(p0, p1,p2)\n",
    "    boost_matrix = np.matrix(f\"{gamma} {-gamma*beta_x} {-gamma*beta_y} {-gamma*beta_z};\\\n",
    "                            {-gamma*beta_x} {1+(gamma-1)*(beta_x/beta)**2} {(gamma-1)*beta_x*beta_y/beta**2} {(gamma-1)*beta_x*beta_z/beta**2};\\\n",
    "                            {-gamma*beta_y} {(gamma-1)*beta_x*beta_y/beta**2} {1+(gamma-1)*(beta_y/beta)**2} {(gamma-1)*beta_y*beta_z/beta**2};\\\n",
    "                            {-gamma*beta_z} {(gamma-1)*beta_x*beta_z/beta**2} {(gamma-1)*beta_z*beta_y/beta**2} {1+(gamma-1)*(beta_z/beta)**2}\")\n",
    "    \n",
    "    p3 = np.dot(boost_matrix,p1)\n",
    "    p4 = np.dot(boost_matrix,p2)\n",
    "\n",
    "    p3 = [p3[0,1],p3[0,2],p3[0,3]]\n",
    "    p4 = [p4[0,1],p4[0,2],p4[0,3]]\n",
    "\n",
    "    return p3, p4\n",
    "    \n",
    "    #print(boost_matrix)\n",
    "    #print(p3,p4)\n",
    "    #print(p3[0,0]**2-p3[0,1]**2-p3[0,2]**2-p3[0,3]**2)\n",
    "    #for i in range(4):\n",
    "        #print(p0[i]-p3[0,i]-p4[0,i])\n",
    "\n",
    "#x,y = lorenz_boost([2,1,0.5])\n",
    "#print(x,y)"
   ]
  },
  {
   "cell_type": "code",
   "execution_count": 9,
   "metadata": {},
   "outputs": [
    {
     "name": "stdout",
     "output_type": "stream",
     "text": [
      "0.03829544464261488\n"
     ]
    }
   ],
   "source": [
    "import math\n",
    "\n",
    "def angle(vector1, vector2):\n",
    "    x1, y1, z1 = vector1[1], vector1[2], vector1[3]\n",
    "    x2, y2, z2 = vector2[1], vector2[2], vector2[3]\n",
    "    inner_product = x1*x2 + y1*y2 + z1*z2\n",
    "    len1 = math.hypot(x1, y1, z1)\n",
    "    len2 = math.hypot(x2, y2, z2)\n",
    "    #print(inner_product,len1,len2)\n",
    "    rel = inner_product/(len1*len2)\n",
    "    if abs(rel)>1:\n",
    "        rel = 1\n",
    "    return math.acos(rel)\n",
    "\n",
    "veto_angle = math.atan(20./522)\n",
    "print(veto_angle)"
   ]
  },
  {
   "cell_type": "code",
   "execution_count": 10,
   "metadata": {},
   "outputs": [],
   "source": [
    "def inv_mass(vector1, vector2):\n",
    "    e1, px1, py1, pz1 = vector1[0], vector1[1], vector1[2], vector1[3]\n",
    "    e2, px2, py2, pz2 = vector2[0], vector2[1], vector2[2], vector2[3]\n",
    "    m2 = (e1+e2)**2 - (px1+px2)**2 - (py1+py2)**2 - (pz1+pz2)**2\n",
    "    if m2<0: m2=0\n",
    "    return math.sqrt(m2)"
   ]
  },
  {
   "cell_type": "code",
   "execution_count": 11,
   "metadata": {
    "scrolled": true,
    "tags": []
   },
   "outputs": [
    {
     "ename": "NameError",
     "evalue": "name 'nThread' is not defined",
     "output_type": "error",
     "traceback": [
      "\u001b[0;31m---------------------------------------------------------------------------\u001b[0m",
      "\u001b[0;31mNameError\u001b[0m                                 Traceback (most recent call last)",
      "\u001b[1;32m/home/yoren/yumvd.Yandex.Disk/Yura/Modeling/AMPT/HeAu_flow_on_vetos.ipynb Cell 19\u001b[0m line \u001b[0;36m4\n\u001b[1;32m      <a href='vscode-notebook-cell:/home/yoren/yumvd.Yandex.Disk/Yura/Modeling/AMPT/HeAu_flow_on_vetos.ipynb#X24sZmlsZQ%3D%3D?line=0'>1</a>\u001b[0m \u001b[39m#second(156,5000)\u001b[39;00m\n\u001b[1;32m      <a href='vscode-notebook-cell:/home/yoren/yumvd.Yandex.Disk/Yura/Modeling/AMPT/HeAu_flow_on_vetos.ipynb#X24sZmlsZQ%3D%3D?line=1'>2</a>\u001b[0m \u001b[39mimport\u001b[39;00m \u001b[39mmultiprocess\u001b[39;00m \u001b[39mas\u001b[39;00m \u001b[39mmp\u001b[39;00m\n\u001b[0;32m----> <a href='vscode-notebook-cell:/home/yoren/yumvd.Yandex.Disk/Yura/Modeling/AMPT/HeAu_flow_on_vetos.ipynb#X24sZmlsZQ%3D%3D?line=3'>4</a>\u001b[0m Ntr \u001b[39m=\u001b[39m nThread\n\u001b[1;32m      <a href='vscode-notebook-cell:/home/yoren/yumvd.Yandex.Disk/Yura/Modeling/AMPT/HeAu_flow_on_vetos.ipynb#X24sZmlsZQ%3D%3D?line=4'>5</a>\u001b[0m Nev \u001b[39m=\u001b[39m nEvents\n\u001b[1;32m      <a href='vscode-notebook-cell:/home/yoren/yumvd.Yandex.Disk/Yura/Modeling/AMPT/HeAu_flow_on_vetos.ipynb#X24sZmlsZQ%3D%3D?line=5'>6</a>\u001b[0m seed0 \u001b[39m=\u001b[39m \u001b[39m15156\u001b[39m\n",
      "\u001b[0;31mNameError\u001b[0m: name 'nThread' is not defined"
     ]
    }
   ],
   "source": [
    "#second(156,5000)\n",
    "import multiprocess as mp\n",
    "\n",
    "Ntr = nThread\n",
    "Nev = nEvents\n",
    "seed0 = 15156\n",
    "seed_iter = 43324\n",
    "\n",
    "pn_ids = [int(2212), int(2112)]\n",
    "\n",
    "projectile_params = [pn_ids[int(1.34*i/(Ntr))] for i in range(Ntr)]\n",
    "target_params = [pn_ids[min(int(4*i/Ntr), 1)] for i in range(Ntr)]\n",
    "print(projectile_params, target_params)\n",
    "\n",
    "pool = mp.Pool(Ntr)\n",
    "hist_array = pool.starmap(pythia8_runner, [(seed0+i*seed_iter, Nev, 2212, 2212) for i in range(Ntr)])\n",
    "#hist_array = pool.starmap(pythia8_runner, [(seed0+i*seed_iter, Nev, 1000020040, 1000791970) for i in range(Ntr)]) #1000020030\n",
    "#hist_array = pool.starmap(pythia8_runner, [(seed0+i*seed_iter, Nev, projectile_params[i], target_params[i]) for i in range(Ntr)])\n",
    "pool.close()"
   ]
  },
  {
   "cell_type": "code",
   "execution_count": null,
   "metadata": {},
   "outputs": [
    {
     "ename": "NameError",
     "evalue": "name 'hist_array' is not defined",
     "output_type": "error",
     "traceback": [
      "\u001b[0;31m---------------------------------------------------------------------------\u001b[0m",
      "\u001b[0;31mNameError\u001b[0m                                 Traceback (most recent call last)",
      "\u001b[1;32m/home/yoren/yumvd.Yandex.Disk/Yura/Modeling/AMPT/HeAu_flow_on_vetos.ipynb Cell 20\u001b[0m line \u001b[0;36m1\n\u001b[0;32m----> <a href='vscode-notebook-cell:/home/yoren/yumvd.Yandex.Disk/Yura/Modeling/AMPT/HeAu_flow_on_vetos.ipynb#X25sZmlsZQ%3D%3D?line=0'>1</a>\u001b[0m hist_Nch \u001b[39m=\u001b[39m hist_array[\u001b[39m0\u001b[39m][\u001b[39m0\u001b[39m]\n\u001b[1;32m      <a href='vscode-notebook-cell:/home/yoren/yumvd.Yandex.Disk/Yura/Modeling/AMPT/HeAu_flow_on_vetos.ipynb#X25sZmlsZQ%3D%3D?line=1'>2</a>\u001b[0m \u001b[39mfor\u001b[39;00m i \u001b[39min\u001b[39;00m \u001b[39mrange\u001b[39m(\u001b[39m1\u001b[39m, Ntr):\n\u001b[1;32m      <a href='vscode-notebook-cell:/home/yoren/yumvd.Yandex.Disk/Yura/Modeling/AMPT/HeAu_flow_on_vetos.ipynb#X25sZmlsZQ%3D%3D?line=2'>3</a>\u001b[0m     hist_Nch\u001b[39m.\u001b[39mAdd(hist_array[i][\u001b[39m0\u001b[39m])\n",
      "\u001b[0;31mNameError\u001b[0m: name 'hist_array' is not defined"
     ]
    }
   ],
   "source": [
    "hist_Nch = hist_array[0][0]\n",
    "for i in range(1, Ntr):\n",
    "    hist_Nch.Add(hist_array[i][0])\n",
    "hist_pt = hist_array[0][1]\n",
    "for i in range(1, Ntr):\n",
    "    hist_pt.Add(hist_array[i][1])\n",
    "hist_imass = hist_array[0][2]\n",
    "for i in range(1, Ntr):\n",
    "    hist_imass.Add(hist_array[i][2])\n",
    "hist_Nch_mid = hist_array[0][3]\n",
    "for i in range(1, Ntr):\n",
    "    hist_Nch_mid.Add(hist_array[i][3])"
   ]
  }
 ],
 "metadata": {
  "kernelspec": {
   "display_name": "Python 3 (ipykernel)",
   "language": "python",
   "name": "python3"
  },
  "language_info": {
   "codemirror_mode": {
    "name": "ipython",
    "version": 3
   },
   "file_extension": ".py",
   "mimetype": "text/x-python",
   "name": "python",
   "nbconvert_exporter": "python",
   "pygments_lexer": "ipython3",
   "version": "3.10.12"
  }
 },
 "nbformat": 4,
 "nbformat_minor": 4
}
